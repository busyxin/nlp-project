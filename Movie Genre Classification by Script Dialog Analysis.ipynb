{
 "cells": [
  {
   "cell_type": "markdown",
   "metadata": {},
   "source": [
    "# Film Genre Classification by Script Dialog Analysis"
   ]
  },
  {
   "cell_type": "markdown",
   "metadata": {},
   "source": [
    "The dataset compiled by Cristian Danescu-Niculescu-Mizil, assistant professor at the department of information science of the Cornell University, offers structured data reflecting the dialog corpus of 617 movies, additional meta information about them, such as title, genres, IMDB votes and rating, as well as details from every character intervening in the movie: name, gender, character’s importance according to the position in the credits. This dataset can be found here:  http://www.cs.cornell.edu/~cristian/Cornell_Movie-Dialogs_Corpus.html\n",
    "\n",
    "This data allows us to build a language model by processing the dialogs contained in the corpus, we hope to discern patterns that will allow us, for example, to predict the details of an unknown movie character given his or her lines in the script. Other possible applications would be classifying a new movie by genres by inputting the conversations. These are two possibilities derived from learning from the available corpus, if time allows it, we can even augment the existing data structure to infer more insights, i.e. relationship between characters, etc.."
   ]
  },
  {
   "cell_type": "markdown",
   "metadata": {},
   "source": [
    "### Import third party libraries"
   ]
  },
  {
   "cell_type": "code",
   "execution_count": 1,
   "metadata": {},
   "outputs": [],
   "source": [
    "%matplotlib inline\n",
    "import re\n",
    "import matplotlib\n",
    "import numpy as np\n",
    "import matplotlib.pyplot as plt\n",
    "import pandas as pd\n",
    "from sklearn.model_selection import train_test_split\n",
    "from sklearn.feature_extraction.text import TfidfVectorizer\n",
    "from sklearn.naive_bayes import MultinomialNB\n",
    "from sklearn.metrics import accuracy_score\n",
    "from sklearn.multiclass import OneVsRestClassifier\n",
    "from nltk.corpus import stopwords\n",
    "stop_words = set(stopwords.words('english'))\n",
    "from sklearn.svm import LinearSVC\n",
    "from sklearn.linear_model import LogisticRegression\n",
    "from sklearn.pipeline import Pipeline\n",
    "\n",
    "import pandas as pd\n",
    "import seaborn as sns"
   ]
  },
  {
   "cell_type": "markdown",
   "metadata": {},
   "source": [
    "\n",
    "### Transform original txt files into CSV"
   ]
  },
  {
   "cell_type": "markdown",
   "metadata": {},
   "source": [
    "The dataset offered by Cristian Cornell are 4 different txt files: `movie_titles_metadata.txt`, `movie_lines.txt`, `movie_conversations.txt` and `movie_characters_metadata.txt`. To make it easier to work with the data, we will transform them into CSV files."
   ]
  },
  {
   "cell_type": "code",
   "execution_count": 2,
   "metadata": {},
   "outputs": [],
   "source": [
    "def csv_convert(filepath, header):\n",
    "    with open(filepath, 'r', errors='ignore') as f:\n",
    "        lines = f.readlines()\n",
    "        csv = open(filepath.replace(\".txt\", \".csv\"),\"w+\")\n",
    "        csv.write(\"%s\\n\" %(\",\".join(header)))\n",
    "        \n",
    "        for line in lines:\n",
    "            lineArray = line.split(\" +++$+++ \")\n",
    "            \n",
    "            if \"LineIDs\" in header:\n",
    "                lineArray[3] = '\"' + lineArray[3].replace(\"\\n\", \"\") + '\"\\n'\n",
    "            \n",
    "            if \"Line\" in header:\n",
    "                lineArray[4] = '\"' + lineArray[4].replace('\"', \"'\").replace(\"\\n\", \"\") + '\"\\n'\n",
    "\n",
    "            if \"Movie Title\" in header:\n",
    "                lineArray[3] = '\"' + lineArray[3] + '\"'\n",
    "                \n",
    "            if \"Title\" in header:\n",
    "                lineArray[1] = '\"' + lineArray[1] + '\"'\n",
    "                \n",
    "            if \"Genres\" in header:\n",
    "                lineArray[5] = '\"' + lineArray[5].replace(\"\\n\", \"\") + '\"\\n'\n",
    "                \n",
    "            line = \",\".join(lineArray)\n",
    "            \n",
    "            csv.write(line)\n",
    "        \n",
    "        csv.close()\n",
    "    f.close()\n",
    "\n",
    "header = [\"ID\", \"Name\", \"Movie ID\", \"Movie Title\", \"Gender\", \"Relevance\"]\n",
    "csv_convert(\"data/train/movie_characters_metadata.txt\", header)\n",
    "\n",
    "header = [\"Char1 ID\", \"Char2 ID\", \"Movie ID\", \"LineIDs\"]\n",
    "csv_convert(\"data/train/movie_conversations.txt\", header)\n",
    "\n",
    "header = [\"ID\", \"Characted ID\", \"Movie ID\", \"Character Name\", \"Line\"]\n",
    "csv_convert(\"data/train/movie_lines.txt\", header)\n",
    "\n",
    "header = [\"ID\", \"Title\", \"Release Year\", \"Rating\", \"Votes\", \"Genres\"]\n",
    "csv_convert(\"data/train/movie_titles_metadata.txt\", header)\n"
   ]
  },
  {
   "cell_type": "markdown",
   "metadata": {},
   "source": [
    "### Data Analysis"
   ]
  },
  {
   "cell_type": "markdown",
   "metadata": {},
   "source": [
    "#### Characters Metadata"
   ]
  },
  {
   "cell_type": "code",
   "execution_count": 3,
   "metadata": {},
   "outputs": [
    {
     "data": {
      "text/plain": [
       "(8339, 6)"
      ]
     },
     "execution_count": 3,
     "metadata": {},
     "output_type": "execute_result"
    }
   ],
   "source": [
    "characters_meta = pd.read_csv('data/train/movie_characters_metadata.csv', encoding='latin-1')\n",
    "characters_meta.shape"
   ]
  },
  {
   "cell_type": "code",
   "execution_count": 4,
   "metadata": {},
   "outputs": [
    {
     "data": {
      "text/html": [
       "<div>\n",
       "<style scoped>\n",
       "    .dataframe tbody tr th:only-of-type {\n",
       "        vertical-align: middle;\n",
       "    }\n",
       "\n",
       "    .dataframe tbody tr th {\n",
       "        vertical-align: top;\n",
       "    }\n",
       "\n",
       "    .dataframe thead th {\n",
       "        text-align: right;\n",
       "    }\n",
       "</style>\n",
       "<table border=\"1\" class=\"dataframe\">\n",
       "  <thead>\n",
       "    <tr style=\"text-align: right;\">\n",
       "      <th></th>\n",
       "      <th>ID</th>\n",
       "      <th>Name</th>\n",
       "      <th>Movie ID</th>\n",
       "      <th>Movie Title</th>\n",
       "      <th>Gender</th>\n",
       "      <th>Relevance</th>\n",
       "    </tr>\n",
       "  </thead>\n",
       "  <tbody>\n",
       "    <tr>\n",
       "      <th>0</th>\n",
       "      <td>u0</td>\n",
       "      <td>BIANCA</td>\n",
       "      <td>m0</td>\n",
       "      <td>10 things i hate about you</td>\n",
       "      <td>f</td>\n",
       "      <td>4</td>\n",
       "    </tr>\n",
       "    <tr>\n",
       "      <th>1</th>\n",
       "      <td>u1</td>\n",
       "      <td>BRUCE</td>\n",
       "      <td>m0</td>\n",
       "      <td>10 things i hate about you</td>\n",
       "      <td>?</td>\n",
       "      <td>?</td>\n",
       "    </tr>\n",
       "    <tr>\n",
       "      <th>2</th>\n",
       "      <td>u2</td>\n",
       "      <td>CAMERON</td>\n",
       "      <td>m0</td>\n",
       "      <td>10 things i hate about you</td>\n",
       "      <td>m</td>\n",
       "      <td>3</td>\n",
       "    </tr>\n",
       "    <tr>\n",
       "      <th>3</th>\n",
       "      <td>u3</td>\n",
       "      <td>CHASTITY</td>\n",
       "      <td>m0</td>\n",
       "      <td>10 things i hate about you</td>\n",
       "      <td>?</td>\n",
       "      <td>?</td>\n",
       "    </tr>\n",
       "    <tr>\n",
       "      <th>4</th>\n",
       "      <td>u4</td>\n",
       "      <td>JOEY</td>\n",
       "      <td>m0</td>\n",
       "      <td>10 things i hate about you</td>\n",
       "      <td>m</td>\n",
       "      <td>6</td>\n",
       "    </tr>\n",
       "  </tbody>\n",
       "</table>\n",
       "</div>"
      ],
      "text/plain": [
       "   ID      Name Movie ID                 Movie Title Gender Relevance\n",
       "0  u0    BIANCA       m0  10 things i hate about you      f         4\n",
       "1  u1     BRUCE       m0  10 things i hate about you      ?         ?\n",
       "2  u2   CAMERON       m0  10 things i hate about you      m         3\n",
       "3  u3  CHASTITY       m0  10 things i hate about you      ?         ?\n",
       "4  u4      JOEY       m0  10 things i hate about you      m         6"
      ]
     },
     "execution_count": 4,
     "metadata": {},
     "output_type": "execute_result"
    }
   ],
   "source": [
    "characters_meta.head()"
   ]
  },
  {
   "cell_type": "markdown",
   "metadata": {},
   "source": [
    "#### Movie Conversations"
   ]
  },
  {
   "cell_type": "code",
   "execution_count": 5,
   "metadata": {},
   "outputs": [
    {
     "data": {
      "text/plain": [
       "(8339, 6)"
      ]
     },
     "execution_count": 5,
     "metadata": {},
     "output_type": "execute_result"
    }
   ],
   "source": [
    "movie_conversations = pd.read_csv('data/train/movie_characters_metadata.csv', encoding='latin-1')\n",
    "movie_conversations.shape"
   ]
  },
  {
   "cell_type": "code",
   "execution_count": 6,
   "metadata": {},
   "outputs": [
    {
     "data": {
      "text/html": [
       "<div>\n",
       "<style scoped>\n",
       "    .dataframe tbody tr th:only-of-type {\n",
       "        vertical-align: middle;\n",
       "    }\n",
       "\n",
       "    .dataframe tbody tr th {\n",
       "        vertical-align: top;\n",
       "    }\n",
       "\n",
       "    .dataframe thead th {\n",
       "        text-align: right;\n",
       "    }\n",
       "</style>\n",
       "<table border=\"1\" class=\"dataframe\">\n",
       "  <thead>\n",
       "    <tr style=\"text-align: right;\">\n",
       "      <th></th>\n",
       "      <th>ID</th>\n",
       "      <th>Name</th>\n",
       "      <th>Movie ID</th>\n",
       "      <th>Movie Title</th>\n",
       "      <th>Gender</th>\n",
       "      <th>Relevance</th>\n",
       "    </tr>\n",
       "  </thead>\n",
       "  <tbody>\n",
       "    <tr>\n",
       "      <th>0</th>\n",
       "      <td>u0</td>\n",
       "      <td>BIANCA</td>\n",
       "      <td>m0</td>\n",
       "      <td>10 things i hate about you</td>\n",
       "      <td>f</td>\n",
       "      <td>4</td>\n",
       "    </tr>\n",
       "    <tr>\n",
       "      <th>1</th>\n",
       "      <td>u1</td>\n",
       "      <td>BRUCE</td>\n",
       "      <td>m0</td>\n",
       "      <td>10 things i hate about you</td>\n",
       "      <td>?</td>\n",
       "      <td>?</td>\n",
       "    </tr>\n",
       "    <tr>\n",
       "      <th>2</th>\n",
       "      <td>u2</td>\n",
       "      <td>CAMERON</td>\n",
       "      <td>m0</td>\n",
       "      <td>10 things i hate about you</td>\n",
       "      <td>m</td>\n",
       "      <td>3</td>\n",
       "    </tr>\n",
       "    <tr>\n",
       "      <th>3</th>\n",
       "      <td>u3</td>\n",
       "      <td>CHASTITY</td>\n",
       "      <td>m0</td>\n",
       "      <td>10 things i hate about you</td>\n",
       "      <td>?</td>\n",
       "      <td>?</td>\n",
       "    </tr>\n",
       "    <tr>\n",
       "      <th>4</th>\n",
       "      <td>u4</td>\n",
       "      <td>JOEY</td>\n",
       "      <td>m0</td>\n",
       "      <td>10 things i hate about you</td>\n",
       "      <td>m</td>\n",
       "      <td>6</td>\n",
       "    </tr>\n",
       "  </tbody>\n",
       "</table>\n",
       "</div>"
      ],
      "text/plain": [
       "   ID      Name Movie ID                 Movie Title Gender Relevance\n",
       "0  u0    BIANCA       m0  10 things i hate about you      f         4\n",
       "1  u1     BRUCE       m0  10 things i hate about you      ?         ?\n",
       "2  u2   CAMERON       m0  10 things i hate about you      m         3\n",
       "3  u3  CHASTITY       m0  10 things i hate about you      ?         ?\n",
       "4  u4      JOEY       m0  10 things i hate about you      m         6"
      ]
     },
     "execution_count": 6,
     "metadata": {},
     "output_type": "execute_result"
    }
   ],
   "source": [
    "movie_conversations.head()"
   ]
  },
  {
   "cell_type": "markdown",
   "metadata": {},
   "source": [
    "#### Movie Lines"
   ]
  },
  {
   "cell_type": "code",
   "execution_count": 7,
   "metadata": {},
   "outputs": [
    {
     "data": {
      "text/plain": [
       "(281764, 5)"
      ]
     },
     "execution_count": 7,
     "metadata": {},
     "output_type": "execute_result"
    }
   ],
   "source": [
    "movie_lines = pd.read_csv('data/train/movie_lines.csv', encoding='latin-1')\n",
    "movie_lines.shape"
   ]
  },
  {
   "cell_type": "code",
   "execution_count": 8,
   "metadata": {},
   "outputs": [
    {
     "data": {
      "text/html": [
       "<div>\n",
       "<style scoped>\n",
       "    .dataframe tbody tr th:only-of-type {\n",
       "        vertical-align: middle;\n",
       "    }\n",
       "\n",
       "    .dataframe tbody tr th {\n",
       "        vertical-align: top;\n",
       "    }\n",
       "\n",
       "    .dataframe thead th {\n",
       "        text-align: right;\n",
       "    }\n",
       "</style>\n",
       "<table border=\"1\" class=\"dataframe\">\n",
       "  <thead>\n",
       "    <tr style=\"text-align: right;\">\n",
       "      <th></th>\n",
       "      <th>ID</th>\n",
       "      <th>Characted ID</th>\n",
       "      <th>Movie ID</th>\n",
       "      <th>Character Name</th>\n",
       "      <th>Line</th>\n",
       "    </tr>\n",
       "  </thead>\n",
       "  <tbody>\n",
       "    <tr>\n",
       "      <th>0</th>\n",
       "      <td>L1045</td>\n",
       "      <td>u0</td>\n",
       "      <td>m0</td>\n",
       "      <td>BIANCA</td>\n",
       "      <td>They do not!</td>\n",
       "    </tr>\n",
       "    <tr>\n",
       "      <th>1</th>\n",
       "      <td>L1044</td>\n",
       "      <td>u2</td>\n",
       "      <td>m0</td>\n",
       "      <td>CAMERON</td>\n",
       "      <td>They do to!</td>\n",
       "    </tr>\n",
       "    <tr>\n",
       "      <th>2</th>\n",
       "      <td>L985</td>\n",
       "      <td>u0</td>\n",
       "      <td>m0</td>\n",
       "      <td>BIANCA</td>\n",
       "      <td>I hope so.</td>\n",
       "    </tr>\n",
       "    <tr>\n",
       "      <th>3</th>\n",
       "      <td>L984</td>\n",
       "      <td>u2</td>\n",
       "      <td>m0</td>\n",
       "      <td>CAMERON</td>\n",
       "      <td>She okay?</td>\n",
       "    </tr>\n",
       "    <tr>\n",
       "      <th>4</th>\n",
       "      <td>L925</td>\n",
       "      <td>u0</td>\n",
       "      <td>m0</td>\n",
       "      <td>BIANCA</td>\n",
       "      <td>Let's go.</td>\n",
       "    </tr>\n",
       "  </tbody>\n",
       "</table>\n",
       "</div>"
      ],
      "text/plain": [
       "      ID Characted ID Movie ID Character Name          Line\n",
       "0  L1045           u0       m0         BIANCA  They do not!\n",
       "1  L1044           u2       m0        CAMERON   They do to!\n",
       "2   L985           u0       m0         BIANCA    I hope so.\n",
       "3   L984           u2       m0        CAMERON     She okay?\n",
       "4   L925           u0       m0         BIANCA     Let's go."
      ]
     },
     "execution_count": 8,
     "metadata": {},
     "output_type": "execute_result"
    }
   ],
   "source": [
    "movie_lines.head()"
   ]
  },
  {
   "cell_type": "markdown",
   "metadata": {},
   "source": [
    "#### Movie Metadata"
   ]
  },
  {
   "cell_type": "code",
   "execution_count": 9,
   "metadata": {},
   "outputs": [
    {
     "data": {
      "text/plain": [
       "(566, 6)"
      ]
     },
     "execution_count": 9,
     "metadata": {},
     "output_type": "execute_result"
    }
   ],
   "source": [
    "movie_meta = pd.read_csv('data/train/movie_titles_metadata.csv', encoding='latin-1')\n",
    "movie_meta.shape"
   ]
  },
  {
   "cell_type": "code",
   "execution_count": 10,
   "metadata": {},
   "outputs": [
    {
     "data": {
      "text/html": [
       "<div>\n",
       "<style scoped>\n",
       "    .dataframe tbody tr th:only-of-type {\n",
       "        vertical-align: middle;\n",
       "    }\n",
       "\n",
       "    .dataframe tbody tr th {\n",
       "        vertical-align: top;\n",
       "    }\n",
       "\n",
       "    .dataframe thead th {\n",
       "        text-align: right;\n",
       "    }\n",
       "</style>\n",
       "<table border=\"1\" class=\"dataframe\">\n",
       "  <thead>\n",
       "    <tr style=\"text-align: right;\">\n",
       "      <th></th>\n",
       "      <th>ID</th>\n",
       "      <th>Title</th>\n",
       "      <th>Release Year</th>\n",
       "      <th>Rating</th>\n",
       "      <th>Votes</th>\n",
       "      <th>Genres</th>\n",
       "    </tr>\n",
       "  </thead>\n",
       "  <tbody>\n",
       "    <tr>\n",
       "      <th>0</th>\n",
       "      <td>m0</td>\n",
       "      <td>10 things i hate about you</td>\n",
       "      <td>1999</td>\n",
       "      <td>6.9</td>\n",
       "      <td>62847</td>\n",
       "      <td>['comedy', 'romance']</td>\n",
       "    </tr>\n",
       "    <tr>\n",
       "      <th>1</th>\n",
       "      <td>m1</td>\n",
       "      <td>1492: conquest of paradise</td>\n",
       "      <td>1992</td>\n",
       "      <td>6.2</td>\n",
       "      <td>10421</td>\n",
       "      <td>['adventure', 'biography', 'drama', 'history']</td>\n",
       "    </tr>\n",
       "    <tr>\n",
       "      <th>2</th>\n",
       "      <td>m2</td>\n",
       "      <td>15 minutes</td>\n",
       "      <td>2001</td>\n",
       "      <td>6.1</td>\n",
       "      <td>25854</td>\n",
       "      <td>['action', 'crime', 'drama', 'thriller']</td>\n",
       "    </tr>\n",
       "    <tr>\n",
       "      <th>3</th>\n",
       "      <td>m3</td>\n",
       "      <td>2001: a space odyssey</td>\n",
       "      <td>1968</td>\n",
       "      <td>8.4</td>\n",
       "      <td>163227</td>\n",
       "      <td>['adventure', 'mystery', 'sci-fi']</td>\n",
       "    </tr>\n",
       "    <tr>\n",
       "      <th>4</th>\n",
       "      <td>m4</td>\n",
       "      <td>48 hrs.</td>\n",
       "      <td>1982</td>\n",
       "      <td>6.9</td>\n",
       "      <td>22289</td>\n",
       "      <td>['action', 'comedy', 'crime', 'drama', 'thrill...</td>\n",
       "    </tr>\n",
       "  </tbody>\n",
       "</table>\n",
       "</div>"
      ],
      "text/plain": [
       "   ID                       Title Release Year  Rating   Votes  \\\n",
       "0  m0  10 things i hate about you         1999     6.9   62847   \n",
       "1  m1  1492: conquest of paradise         1992     6.2   10421   \n",
       "2  m2                  15 minutes         2001     6.1   25854   \n",
       "3  m3       2001: a space odyssey         1968     8.4  163227   \n",
       "4  m4                     48 hrs.         1982     6.9   22289   \n",
       "\n",
       "                                              Genres  \n",
       "0                              ['comedy', 'romance']  \n",
       "1     ['adventure', 'biography', 'drama', 'history']  \n",
       "2           ['action', 'crime', 'drama', 'thriller']  \n",
       "3                 ['adventure', 'mystery', 'sci-fi']  \n",
       "4  ['action', 'comedy', 'crime', 'drama', 'thrill...  "
      ]
     },
     "execution_count": 10,
     "metadata": {},
     "output_type": "execute_result"
    }
   ],
   "source": [
    "movie_meta.head()"
   ]
  },
  {
   "cell_type": "markdown",
   "metadata": {},
   "source": [
    "### Genres identification and frequency"
   ]
  },
  {
   "cell_type": "code",
   "execution_count": 11,
   "metadata": {},
   "outputs": [
    {
     "name": "stdout",
     "output_type": "stream",
     "text": [
      "{'comedy': 149, 'romance': 122, 'adventure': 106, 'biography': 24, 'drama': 297, 'history': 18, 'action': 153, 'crime': 131, 'thriller': 249, 'mystery': 93, 'sci-fi': 110, 'fantasy': 70, 'horror': 97, 'music': 13, 'western': 9, 'war': 20, 'adult': 1, 'musical': 6, 'animation': 17, 'sport': 8, 'family': 15, 'short': 4, 'film-noir': 4, 'documentary': 2}\n"
     ]
    },
    {
     "data": {
      "text/plain": [
       "Text(0.5, 0, 'Genre')"
      ]
     },
     "execution_count": 11,
     "metadata": {},
     "output_type": "execute_result"
    },
    {
     "data": {
      "image/png": "[encoded data removed]",
      "text/plain": [
       "<Figure size 1296x360 with 1 Axes>"
      ]
     },
     "metadata": {
      "needs_background": "light"
     },
     "output_type": "display_data"
    }
   ],
   "source": [
    "movie_genres = {}\n",
    "for index, row in movie_meta.iterrows():\n",
    "    current_genres = eval(row[\"Genres\"])\n",
    "    for i in range(len(current_genres)):\n",
    "        if current_genres[i] in movie_genres:\n",
    "            movie_genres[current_genres[i]] += 1\n",
    "        else:\n",
    "            movie_genres[current_genres[i]] = 1\n",
    "\n",
    "print (movie_genres)\n",
    "            \n",
    "genres_stats = {\n",
    "    \"index\": [],\n",
    "    \"values\": []\n",
    "}\n",
    "\n",
    "for genre in movie_genres:\n",
    "    genres_stats[\"index\"].append(genre)\n",
    "    genres_stats[\"values\"].append(movie_genres[genre])\n",
    "            \n",
    "classes = genres_stats[\"index\"]\n",
    "        \n",
    "plt.figure(figsize=(18,5))\n",
    "plt.xticks(rotation=90)\n",
    "ax = sns.barplot(genres_stats[\"index\"], genres_stats[\"values\"])\n",
    "plt.title(\"Movie genre frequency\")\n",
    "plt.ylabel('# of Occurrences', fontsize=12)\n",
    "plt.xlabel('Genre', fontsize=12)"
   ]
  },
  {
   "cell_type": "markdown",
   "metadata": {},
   "source": [
    "## Data preparation"
   ]
  },
  {
   "cell_type": "code",
   "execution_count": 34,
   "metadata": {},
   "outputs": [
    {
     "data": {
      "text/html": [
       "<div>\n",
       "<style scoped>\n",
       "    .dataframe tbody tr th:only-of-type {\n",
       "        vertical-align: middle;\n",
       "    }\n",
       "\n",
       "    .dataframe tbody tr th {\n",
       "        vertical-align: top;\n",
       "    }\n",
       "\n",
       "    .dataframe thead th {\n",
       "        text-align: right;\n",
       "    }\n",
       "</style>\n",
       "<table border=\"1\" class=\"dataframe\">\n",
       "  <thead>\n",
       "    <tr style=\"text-align: right;\">\n",
       "      <th></th>\n",
       "      <th>ID</th>\n",
       "      <th>Lines</th>\n",
       "      <th>comedy</th>\n",
       "      <th>romance</th>\n",
       "      <th>adventure</th>\n",
       "      <th>biography</th>\n",
       "      <th>drama</th>\n",
       "      <th>history</th>\n",
       "      <th>action</th>\n",
       "      <th>crime</th>\n",
       "      <th>...</th>\n",
       "      <th>western</th>\n",
       "      <th>war</th>\n",
       "      <th>adult</th>\n",
       "      <th>musical</th>\n",
       "      <th>animation</th>\n",
       "      <th>sport</th>\n",
       "      <th>family</th>\n",
       "      <th>short</th>\n",
       "      <th>film-noir</th>\n",
       "      <th>documentary</th>\n",
       "    </tr>\n",
       "  </thead>\n",
       "  <tbody>\n",
       "    <tr>\n",
       "      <th>0</th>\n",
       "      <td>m0</td>\n",
       "      <td>They do not! They do to! I hope so. She okay? ...</td>\n",
       "      <td>1</td>\n",
       "      <td>1</td>\n",
       "      <td>0</td>\n",
       "      <td>0</td>\n",
       "      <td>0</td>\n",
       "      <td>0</td>\n",
       "      <td>0</td>\n",
       "      <td>0</td>\n",
       "      <td>...</td>\n",
       "      <td>0</td>\n",
       "      <td>0</td>\n",
       "      <td>0</td>\n",
       "      <td>0</td>\n",
       "      <td>0</td>\n",
       "      <td>0</td>\n",
       "      <td>0</td>\n",
       "      <td>0</td>\n",
       "      <td>0</td>\n",
       "      <td>0</td>\n",
       "    </tr>\n",
       "    <tr>\n",
       "      <th>1</th>\n",
       "      <td>m1</td>\n",
       "      <td>Can't be that far, I say.  Also, I don't like ...</td>\n",
       "      <td>0</td>\n",
       "      <td>0</td>\n",
       "      <td>1</td>\n",
       "      <td>1</td>\n",
       "      <td>1</td>\n",
       "      <td>1</td>\n",
       "      <td>0</td>\n",
       "      <td>0</td>\n",
       "      <td>...</td>\n",
       "      <td>0</td>\n",
       "      <td>0</td>\n",
       "      <td>0</td>\n",
       "      <td>0</td>\n",
       "      <td>0</td>\n",
       "      <td>0</td>\n",
       "      <td>0</td>\n",
       "      <td>0</td>\n",
       "      <td>0</td>\n",
       "      <td>0</td>\n",
       "    </tr>\n",
       "    <tr>\n",
       "      <th>2</th>\n",
       "      <td>m2</td>\n",
       "      <td>Officers, there's your killer, do your duty, a...</td>\n",
       "      <td>0</td>\n",
       "      <td>0</td>\n",
       "      <td>0</td>\n",
       "      <td>0</td>\n",
       "      <td>1</td>\n",
       "      <td>0</td>\n",
       "      <td>1</td>\n",
       "      <td>1</td>\n",
       "      <td>...</td>\n",
       "      <td>0</td>\n",
       "      <td>0</td>\n",
       "      <td>0</td>\n",
       "      <td>0</td>\n",
       "      <td>0</td>\n",
       "      <td>0</td>\n",
       "      <td>0</td>\n",
       "      <td>0</td>\n",
       "      <td>0</td>\n",
       "      <td>0</td>\n",
       "    </tr>\n",
       "    <tr>\n",
       "      <th>3</th>\n",
       "      <td>m3</td>\n",
       "      <td>We're trying to get there. I hope we can. CONT...</td>\n",
       "      <td>0</td>\n",
       "      <td>0</td>\n",
       "      <td>1</td>\n",
       "      <td>0</td>\n",
       "      <td>0</td>\n",
       "      <td>0</td>\n",
       "      <td>0</td>\n",
       "      <td>0</td>\n",
       "      <td>...</td>\n",
       "      <td>0</td>\n",
       "      <td>0</td>\n",
       "      <td>0</td>\n",
       "      <td>0</td>\n",
       "      <td>0</td>\n",
       "      <td>0</td>\n",
       "      <td>0</td>\n",
       "      <td>0</td>\n",
       "      <td>0</td>\n",
       "      <td>0</td>\n",
       "    </tr>\n",
       "    <tr>\n",
       "      <th>4</th>\n",
       "      <td>m4</td>\n",
       "      <td>Great, just great. That we do. And we put air ...</td>\n",
       "      <td>1</td>\n",
       "      <td>0</td>\n",
       "      <td>0</td>\n",
       "      <td>0</td>\n",
       "      <td>1</td>\n",
       "      <td>0</td>\n",
       "      <td>1</td>\n",
       "      <td>1</td>\n",
       "      <td>...</td>\n",
       "      <td>0</td>\n",
       "      <td>0</td>\n",
       "      <td>0</td>\n",
       "      <td>0</td>\n",
       "      <td>0</td>\n",
       "      <td>0</td>\n",
       "      <td>0</td>\n",
       "      <td>0</td>\n",
       "      <td>0</td>\n",
       "      <td>0</td>\n",
       "    </tr>\n",
       "  </tbody>\n",
       "</table>\n",
       "<p>5 rows × 26 columns</p>\n",
       "</div>"
      ],
      "text/plain": [
       "   ID                                              Lines  comedy  romance  \\\n",
       "0  m0  They do not! They do to! I hope so. She okay? ...       1        1   \n",
       "1  m1  Can't be that far, I say.  Also, I don't like ...       0        0   \n",
       "2  m2  Officers, there's your killer, do your duty, a...       0        0   \n",
       "3  m3  We're trying to get there. I hope we can. CONT...       0        0   \n",
       "4  m4  Great, just great. That we do. And we put air ...       1        0   \n",
       "\n",
       "   adventure  biography  drama  history  action  crime     ...       western  \\\n",
       "0          0          0      0        0       0      0     ...             0   \n",
       "1          1          1      1        1       0      0     ...             0   \n",
       "2          0          0      1        0       1      1     ...             0   \n",
       "3          1          0      0        0       0      0     ...             0   \n",
       "4          0          0      1        0       1      1     ...             0   \n",
       "\n",
       "   war  adult  musical  animation  sport  family  short  film-noir  \\\n",
       "0    0      0        0          0      0       0      0          0   \n",
       "1    0      0        0          0      0       0      0          0   \n",
       "2    0      0        0          0      0       0      0          0   \n",
       "3    0      0        0          0      0       0      0          0   \n",
       "4    0      0        0          0      0       0      0          0   \n",
       "\n",
       "   documentary  \n",
       "0            0  \n",
       "1            0  \n",
       "2            0  \n",
       "3            0  \n",
       "4            0  \n",
       "\n",
       "[5 rows x 26 columns]"
      ]
     },
     "execution_count": 34,
     "metadata": {},
     "output_type": "execute_result"
    }
   ],
   "source": [
    "# Creating a Dataframe with only relevant fields: ID, Lines, Genres spreaded\n",
    "\n",
    "for label in classes:\n",
    "    label_array = []\n",
    "    \n",
    "    for genre_array in movie_meta.Genres:\n",
    "        if label in genre_array:\n",
    "            label_array.append(1)\n",
    "        else:\n",
    "            label_array.append(0)\n",
    "    \n",
    "    movie_meta[label] = label_array\n",
    "    \n",
    "line_dict = {} \n",
    "\n",
    "for index, row in movie_lines.iterrows():    \n",
    "    if row[\"Movie ID\"] in line_dict:\n",
    "        line_dict[row[\"Movie ID\"]] = str(line_dict[row[\"Movie ID\"]]) + \" \" + str(row[\"Line\"])\n",
    "    else:\n",
    "        line_dict[row[\"Movie ID\"]] = row[\"Line\"]\n",
    "\n",
    "lines_array = []\n",
    "\n",
    "for value in line_dict.values():\n",
    "    lines_array.append(value)   \n",
    "    \n",
    "movie_dataframe = pd.DataFrame({ \n",
    "    'ID' : movie_meta.ID,\n",
    "    'Lines' : lines_array\n",
    "})\n",
    "\n",
    "for label in classes:\n",
    "    movie_dataframe[label] = movie_meta[label]\n",
    "\n",
    "\n",
    "movie_dataframe.head()\n",
    "    \n",
    "    "
   ]
  },
  {
   "cell_type": "code",
   "execution_count": null,
   "metadata": {},
   "outputs": [],
   "source": [
    "movie_meta.Genres\n"
   ]
  },
  {
   "cell_type": "code",
   "execution_count": null,
   "metadata": {},
   "outputs": [],
   "source": []
  }
 ],
 "metadata": {
  "kernelspec": {
   "display_name": "Python 3",
   "language": "python",
   "name": "python3"
  },
  "language_info": {
   "codemirror_mode": {
    "name": "ipython",
    "version": 3
   },
   "file_extension": ".py",
   "mimetype": "text/x-python",
   "name": "python",
   "nbconvert_exporter": "python",
   "pygments_lexer": "ipython3",
   "version": "3.6.5"
  }
 },
 "nbformat": 4,
 "nbformat_minor": 2
}
